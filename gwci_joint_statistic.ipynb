{
 "cells": [
  {
   "cell_type": "markdown",
   "metadata": {},
   "source": [
    "# Calculating joint statistics from resulting AJIVE matrices "
   ]
  },
  {
   "cell_type": "code",
   "execution_count": null,
   "metadata": {},
   "outputs": [],
   "source": [
    "import numpy as np\n",
    "import pandas as pd\n",
    "import matplotlib.pyplot as plt\n",
    "import seaborn as sns"
   ]
  },
  {
   "cell_type": "code",
   "execution_count": null,
   "metadata": {},
   "outputs": [],
   "source": [
    "a_name = 'TCGA-BRCA'\n",
    "b_name = 'CCLE'\n",
    "\n",
    "a_path = '/home/baprice/Projects/00014_geneJIVE/data/prejive/tcgabrca_prejive.csv'\n",
    "b_path = '/home/baprice/Projects/00014_geneJIVE/data/prejive/ccle_nohaem_prejive.csv'\n",
    "\n",
    "a_joint_path = '/home/baprice/Projects/00014_geneJIVE/data/gj_tcgabrca_ccle/gj_tcgabrca_ccle_275+150/gj_tcgabrca_ccle_275+150_tcgabrca_joint.csv'\n",
    "b_joint_path = '/home/baprice/Projects/00014_geneJIVE/data/gj_tcgabrca_ccle/gj_tcgabrca_ccle_275+150/gj_tcgabrca_ccle_275+150_ccle_joint.csv'\n",
    "\n",
    "a_indiv_path = '/home/baprice/Projects/00014_geneJIVE/data/gj_tcgabrca_ccle/gj_tcgabrca_ccle_275+150/gj_tcgabrca_ccle_275+150_tcgabrca_individual.csv'\n",
    "b_indiv_path = '/home/baprice/Projects/00014_geneJIVE/data/gj_tcgabrca_ccle/gj_tcgabrca_ccle_275+150/gj_tcgabrca_ccle_275+150_ccle_individual.csv'\n",
    "\n",
    "a = pd.read_csv(a_path, index_col=0)\n",
    "b = pd.read_csv(b_path, index_col=0)\n",
    "a_joint = pd.read_csv(a_joint_path, index_col=0)\n",
    "b_joint = pd.read_csv(b_joint_path, index_col=0)\n",
    "a_indiv = pd.read_csv(a_indiv_path, index_col=0)\n",
    "b_indiv = pd.read_csv(b_indiv_path, index_col=0)"
   ]
  },
  {
   "cell_type": "code",
   "execution_count": null,
   "metadata": {},
   "outputs": [],
   "source": [
    "def distance(x1, y1, a=-1, b=1, c=0):  \n",
    "    return abs((a * x1 + b * y1 + c)) / (np.sqrt(a * a + b * b)) \n",
    "\n",
    "def joint_statistics(joint, individual):\n",
    "    s = 0.05\n",
    "    return np.var(joint, axis=1).clip(lower=s)-(np.var(individual, axis=1).clip(lower=s))\n",
    "\n",
    "def permute_expected_statistics(joint, individual, n_perm=20):\n",
    "    joined = joint.join(individual, lsuffix='_J', rsuffix='_I')\n",
    "    perms = []\n",
    "    sig_counts = []\n",
    "    for p in range(n_perm):\n",
    "        col_perm = np.random.permutation(joined.columns.tolist())\n",
    "        j_perm = joined[col_perm[:len(col_perm)//2]]\n",
    "        i_perm = joined[col_perm[len(col_perm)//2:]]\n",
    "        exp_stat = np.sort(joint_statistics(j_perm, i_perm))[::-1]\n",
    "        perms.append(exp_stat)\n",
    "    \n",
    "    return pd.DataFrame(perms)\n",
    "\n",
    "def qvalueTable(observed, permutations, thresholds=2000, decimals=4):\n",
    "    obs_sigs = []\n",
    "    perm_sigs = []\n",
    "    fdrs = []\n",
    "    qs = []\n",
    "    for q in np.round(np.linspace(0, np.max([np.abs(observed.min()),np.abs(observed.max())]), num=thresholds), decimals=decimals):\n",
    "        obs_sig = (np.abs(obs) > q).sum()\n",
    "        perm_sig = (np.abs(permutations) > q).to_numpy().sum()\n",
    "        fdr = perm_sig/(obs_sig+perm_sig)\n",
    "        obs_sigs.append(obs_sig)\n",
    "        perm_sigs.append(perm_sig)\n",
    "        fdrs.append(fdr)\n",
    "        qs.append(q)\n",
    "        \n",
    "    return_df = pd.DataFrame([qs, obs_sigs, perm_sigs, fdrs], index=['threshold','observed','expected','fdr']).T\n",
    "    \n",
    "    return return_df\n",
    "\n",
    "def jstat_maplot(joint, individual):\n",
    "    m = joint_statistics(joint, individual)\n",
    "    a = average_j_stat(joint, individual)\n",
    "    \n",
    "    sns.set_context('notebook')\n",
    "    plt.figure(figsize=[18,10])\n",
    "    p = sns.scatterplot(y=m, x=a, alpha=0.35)\n",
    "    ymin, ymax = p.axes.get_ylim()\n",
    "    abs_ymax = max(abs(ymin), abs(ymax))\n",
    "    plt.ylim([-abs_ymax, abs_ymax])\n",
    "    plt.ylabel(r'$\\log{\\frac{\\sigma_J}{\\sigma_I}}$', size=30, rotation=0, labelpad=50)\n",
    "    plt.xlabel(r'$\\frac{1}{2}\\log({\\sigma_J\\sigma_I})$', size=30, rotation=0)\n",
    "    plt.axhline(0, color='k', zorder=1)\n",
    "    \n",
    "def average_j_stat(joint, individual):\n",
    "    return 0.5 * np.log(np.std(joint, axis=1)*np.std(individual, axis=1))"
   ]
  },
  {
   "cell_type": "code",
   "execution_count": null,
   "metadata": {},
   "outputs": [],
   "source": [
    "a_obs_j = pd.Series(joint_statistics(a_joint, a_indiv))\n",
    "a_expect_j_perms = permute_expected_statistics(a_joint, a_indiv, n_perm=200)\n",
    "a_expect_j = pd.DataFrame(a_expect_j_perms).mean()\n",
    "a_expect_j.index = a_joint.index\n",
    "a_obs_j_sort = a_obs_j.sort_values(ascending=False)\n",
    "a_stat_df = pd.DataFrame([np.sort(a_obs_j)[::-1], a_expect_j], index=['Observed','Expected'], columns=a_obs_j_sort.index).T\n",
    "\n",
    "b_obs_j = pd.Series(joint_statistics(b_joint, b_indiv))\n",
    "b_obs_j_sort = b_obs_j.sort_values(ascending=False)\n",
    "b_expect_j_perms = permute_expected_statistics(b_joint, b_indiv, n_perm=200)\n",
    "b_expect_j = pd.DataFrame(b_expect_j_perms).mean()\n",
    "b_expect_j.index = b_joint.index\n",
    "b_stat_df = pd.DataFrame([np.sort(b_obs_j)[::-1], b_expect_j], index=['Observed','Expected'], columns=b_obs_j_sort.index).T\n",
    "\n",
    "jstats_df = a_stat_df.join(b_stat_df, lsuffix='_'+str(a_name), rsuffix='_'+str(b_name))"
   ]
  },
  {
   "cell_type": "code",
   "execution_count": null,
   "metadata": {},
   "outputs": [],
   "source": [
    "jstats_df.head()"
   ]
  }
 ],
 "metadata": {
  "kernelspec": {
   "display_name": "Python 3",
   "language": "python",
   "name": "python3"
  },
  "language_info": {
   "codemirror_mode": {
    "name": "ipython",
    "version": 3
   },
   "file_extension": ".py",
   "mimetype": "text/x-python",
   "name": "python",
   "nbconvert_exporter": "python",
   "pygments_lexer": "ipython3",
   "version": "3.6.7"
  }
 },
 "nbformat": 4,
 "nbformat_minor": 4
}
