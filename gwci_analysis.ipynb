{
 "cells": [
  {
   "cell_type": "code",
   "execution_count": 1,
   "metadata": {},
   "outputs": [],
   "source": [
    "import pandas as pd\n",
    "import matplotlib.pyplot as plt\n",
    "import seaborn as sns\n",
    "import numpy as np"
   ]
  },
  {
   "cell_type": "code",
   "execution_count": null,
   "metadata": {},
   "outputs": [],
   "source": [
    "a_name = 'TCGA-BRCA'\n",
    "b_name = 'CCLE'\n",
    "a_path = '/home/baprice/Projects/00014_geneJIVE/data/prejive/tcgabrca_prejive.csv'\n",
    "b_path = '/home/baprice/Projects/00014_geneJIVE/data/prejive/ccle_nohaem_prejive.csv'\n",
    "a_joint_path = '/home/baprice/Projects/00014_geneJIVE/data/gj_tcgabrca_ccle/gj_tcgabrca_ccle_275+150/gj_tcgabrca_ccle_275+150_tcgabrca_joint.csv'\n",
    "b_joint_path = '/home/baprice/Projects/00014_geneJIVE/data/gj_tcgabrca_ccle/gj_tcgabrca_ccle_275+150/gj_tcgabrca_ccle_275+150_ccle_joint.csv'\n",
    "a_indiv_path = '/home/baprice/Projects/00014_geneJIVE/data/gj_tcgabrca_ccle/gj_tcgabrca_ccle_275+150/gj_tcgabrca_ccle_275+150_tcgabrca_individual.csv'\n",
    "b_indiv_path = '/home/baprice/Projects/00014_geneJIVE/data/gj_tcgabrca_ccle/gj_tcgabrca_ccle_275+150/gj_tcgabrca_ccle_275+150_ccle_individual.csv'\n",
    "\n",
    "a = pd.read_csv(a_path, index_col=0)\n",
    "b = pd.read_csv(b_path, index_col=0)\n",
    "a_joint = pd.read_csv(a_joint_path, index_col=0)\n",
    "b_joint = pd.read_csv(b_joint_path, index_col=0)\n",
    "a_indiv = pd.read_csv(a_indiv_path, index_col=0)\n",
    "b_indiv = pd.read_csv(b_indiv_path, index_col=0)"
   ]
  },
  {
   "cell_type": "code",
   "execution_count": null,
   "metadata": {},
   "outputs": [],
   "source": [
    "import pickle\n",
    "\n",
    "with open('/home/baprice/Projects/00014_geneJIVE/data/gj_tcgabrca_ccle/gj_tcgabrca_ccle_275+150/gj_tcgabrca_ccle_275+150_ajive.p', 'rb') as p:\n",
    "    ajive = pickle.load(p)"
   ]
  },
  {
   "cell_type": "markdown",
   "metadata": {},
   "source": [
    "## Figure 2A: Variation Explained Plot"
   ]
  },
  {
   "cell_type": "code",
   "execution_count": null,
   "metadata": {},
   "outputs": [],
   "source": [
    "def getVarianceExplained(original, joint, individual, label):\n",
    "    from numpy.linalg import norm\n",
    "    joint_var = norm(joint)**2/norm(original)**2\n",
    "    individual_var = norm(individual)**2/norm(original)**2\n",
    "    residual_var = 1-joint_var-individual_var\n",
    "    return pd.DataFrame([np.round(joint_var*100, 2), np.round(individual_var*100,2), np.round(residual_var*100,2)], index=['Joint','Individual','Residual'], columns=[label])\n",
    "\n",
    "def plotVarianceExplained(df, figsize=[12,8]):\n",
    "    import matplotlib.patheffects as PathEffects\n",
    "    sns.set(context='talk', style='ticks')\n",
    "    sns.set_style('ticks')\n",
    "    ax = df.plot.bar(stacked=True, figsize=figsize, table=False, rot='horizontal')\n",
    "    handles, labels = ax.get_legend_handles_labels()\n",
    "    ax.legend(reversed(handles), reversed(labels))\n",
    "    \n",
    "    for rect in ax.patches:\n",
    "        # Find where everything is located\n",
    "        height = rect.get_height()\n",
    "        width = rect.get_width()\n",
    "        x = rect.get_x()\n",
    "        y = rect.get_y()\n",
    "\n",
    "        # The height of the bar is the data value and can be used as the label\n",
    "        label_text = f'{height:.2f}'  \n",
    "        label_x = x + width - 0.16  \n",
    "        label_y = y + height / 2 \n",
    "        txt = ax.text(label_x, label_y, label_text + '%', ha='right', va='center', fontsize=16, color='white', fontweight='black')\n",
    "        txt.set_path_effects([PathEffects.withStroke(linewidth=0.5, foreground='black')])\n",
    "        \n",
    "    ax.set_ylabel(\"% Variation Explained\", fontsize=18)\n",
    "    plt.show()\n",
    "    \n",
    "    \n",
    "    plt.tight_layout()\n",
    "       \n",
    "plt_df = getVarianceExplained(a, a_joint, a_indiv, a_name).join(getVarianceExplained(b, b_joint, b_indiv, b_name)).T\n",
    "plotVarianceExplained(plt_df)"
   ]
  },
  {
   "cell_type": "markdown",
   "metadata": {},
   "source": [
    "## Figure 2B"
   ]
  },
  {
   "cell_type": "code",
   "execution_count": null,
   "metadata": {},
   "outputs": [],
   "source": [
    "tcgabrca_j_unnorm = ajive.blocks['A'].joint.svals()*ajive.blocks['A'].joint.loadings()\n",
    "tcgabrca_i_unnorm = ajive.blocks['A'].individual.svals()*ajive.blocks['A'].individual.loadings()\n",
    "samp_joint_prop = np.sum(tcgabrca_j_unnorm**2, axis=1)/np.sum(a.T**2, axis=0)\n",
    "samp_indiv_prop = np.sum(tcgabrca_i_unnorm**2, axis=1)/np.sum(a.T**2, axis=0)\n",
    "prop_df = pd.DataFrame([samp_joint_prop, samp_indiv_prop], index=['Joint Proportion','Individual Proportion']).T\n",
    "ccle_j_unnorm = ajive.blocks['B'].joint.svals()*ajive.blocks['B'].joint.loadings()\n",
    "ccle_i_unnorm = ajive.blocks['B'].individual.svals()*ajive.blocks['B'].individual.loadings()\n",
    "\n",
    "samp_joint_prop = np.sum(ccle_j_unnorm**2, axis=1)/np.sum(b.T**2, axis=0)\n",
    "samp_indiv_prop = np.sum(ccle_i_unnorm**2, axis=1)/np.sum(b.T**2, axis=0)\n",
    "#delete 3 duplicate cell lines?\n",
    "samp_joint_prop = samp_joint_prop.drop(samp_joint_prop[pd.DataFrame(samp_joint_prop).index.duplicated()].index)\n",
    "samp_indiv_prop = samp_indiv_prop.drop(samp_indiv_prop[pd.DataFrame(samp_indiv_prop).index.duplicated()].index)\n",
    "\n",
    "prop_df = pd.DataFrame([samp_joint_prop, samp_indiv_prop], index=['Joint Proportion','Individual Proportion']).T\n",
    "prop_df['TISSUE'] = prop_df.index.map(lambda i: '_'.join(i.split('_')[1:]))\n",
    "\n",
    "prop_df['%Joint'] = prop_df['Joint Proportion']*100\n",
    "prop_df['%Individual'] = prop_df['Individual Proportion']*100\n",
    "\n",
    "prop_df['Ratio'] = prop_df.apply(lambda i: i['Joint Proportion']/i['Individual Proportion'], axis=1)\n",
    "\n",
    "tissue_sort = prop_df.reset_index().groupby('TISSUE').mean().sort_values('Ratio').index.tolist()\n",
    "\n",
    "plt.figure(figsize=[12,8], facecolor='w')\n",
    "sns.boxplot(data=prop_df, x='TISSUE', y='Ratio', order=tissue_sort)\n",
    "plt.xticks(size=12, rotation=55, ha='right', rotation_mode=\"anchor\");\n",
    "plt.title('Cell Line Tissue Population Best Represented by TCGA-BRCA')\n",
    "plt.ylabel(r'$\\frac{Joint\\ Proportion}{Individual\\ Proportion}$')\n"
   ]
  },
  {
   "cell_type": "markdown",
   "metadata": {},
   "source": [
    "# Joint Statistic"
   ]
  },
  {
   "cell_type": "code",
   "execution_count": null,
   "metadata": {},
   "outputs": [],
   "source": [
    "#Distance from point to line (default line being y=x) \n",
    "def distance(x1, y1, a=-1, b=1, c=0):  \n",
    "    return abs((a * x1 + b * y1 + c)) / (np.sqrt(a * a + b * b)) \n",
    "\n",
    "def joint_statistics(joint, individual):\n",
    "    fudge = 0.01\n",
    "    return np.var(joint, axis=1).clip(lower=fudge)-(np.var(individual, axis=1).clip(lower=fudge))\n",
    "\n",
    "def permute_expected_statistics(joint, individual, n_perm=20):\n",
    "    joined = joint.join(individual, lsuffix='_J', rsuffix='_I')\n",
    "    perms = []\n",
    "    sig_counts = []\n",
    "    for p in range(n_perm):\n",
    "        col_perm = np.random.permutation(joined.columns.tolist())\n",
    "        j_perm = joined[col_perm[:len(col_perm)//2]]\n",
    "        i_perm = joined[col_perm[len(col_perm)//2:]]\n",
    "        exp_stat = np.sort(joint_statistics(j_perm, i_perm))[::-1]\n",
    "        perms.append(exp_stat)\n",
    "    \n",
    "    return pd.DataFrame(perms)\n",
    "\n",
    "def permute_expected_statistics2(joint, individual, n_perm=20):\n",
    "    joined = joint.join(individual, lsuffix='_J', rsuffix='_I')\n",
    "    perms = []\n",
    "    sig_counts = []\n",
    "    for p in range(n_perm):\n",
    "        col_perm = np.random.permutation(joined.columns.tolist())\n",
    "        j_perm = joined[col_perm[:len(col_perm)//2]]\n",
    "        i_perm = joined[col_perm[len(col_perm)//2:]]\n",
    "        exp_stat = joint_statistics(j_perm, i_perm)\n",
    "        perms.append(exp_stat)\n",
    "    \n",
    "    return pd.DataFrame(perms).T\n",
    "\n",
    "def qvalueTable(observed, permutations, thresholds=2000, decimals=4):\n",
    "    obs_sigs = []\n",
    "    perm_sigs = []\n",
    "    fdrs = []\n",
    "    qs = []\n",
    "    for q in np.round(np.linspace(0, np.max([np.abs(observed.min()),np.abs(observed.max())]), num=thresholds), decimals=decimals):\n",
    "        obs_sig = (np.abs(obs) > q).sum()\n",
    "        perm_sig = (np.abs(permutations) > q).to_numpy().sum()\n",
    "        fdr = perm_sig/(obs_sig+perm_sig)\n",
    "        obs_sigs.append(obs_sig)\n",
    "        perm_sigs.append(perm_sig)\n",
    "        fdrs.append(fdr)\n",
    "        qs.append(q)\n",
    "        \n",
    "    return_df = pd.DataFrame([qs, obs_sigs, perm_sigs, fdrs], index=['threshold','observed','expected','fdr']).T\n",
    "    \n",
    "    return return_df\n",
    "\n",
    "def jstat_maplot(joint, individual):\n",
    "    m = joint_statistics(joint, individual)\n",
    "    a = average_j_stat(joint, individual)\n",
    "    \n",
    "    sns.set_context('notebook')\n",
    "    plt.figure(figsize=[18,10])\n",
    "    p = sns.scatterplot(y=m, x=a, alpha=0.35)\n",
    "    ymin, ymax = p.axes.get_ylim()\n",
    "    abs_ymax = max(abs(ymin), abs(ymax))\n",
    "    plt.ylim([-abs_ymax, abs_ymax])\n",
    "    plt.ylabel(r'$\\log{\\frac{\\sigma_J}{\\sigma_I}}$', size=30, rotation=0, labelpad=50)\n",
    "    plt.xlabel(r'$\\frac{1}{2}\\log({\\sigma_J\\sigma_I})$', size=30, rotation=0)\n",
    "    plt.axhline(0, color='k', zorder=1)\n",
    "    \n",
    "def average_j_stat(joint, individual):\n",
    "    return 0.5 * np.log(np.std(joint, axis=1)*np.std(individual, axis=1))\n"
   ]
  },
  {
   "cell_type": "code",
   "execution_count": null,
   "metadata": {},
   "outputs": [],
   "source": []
  }
 ],
 "metadata": {
  "kernelspec": {
   "display_name": "Python 3",
   "language": "python",
   "name": "python3"
  },
  "language_info": {
   "codemirror_mode": {
    "name": "ipython",
    "version": 3
   },
   "file_extension": ".py",
   "mimetype": "text/x-python",
   "name": "python",
   "nbconvert_exporter": "python",
   "pygments_lexer": "ipython3",
   "version": "3.6.7"
  }
 },
 "nbformat": 4,
 "nbformat_minor": 4
}
